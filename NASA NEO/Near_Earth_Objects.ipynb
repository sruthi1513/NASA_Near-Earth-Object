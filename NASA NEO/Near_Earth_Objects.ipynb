{
 "cells": [
  {
   "cell_type": "code",
   "execution_count": 1,
   "id": "4663c750-4307-4e08-9b9a-5e7f261277e9",
   "metadata": {},
   "outputs": [],
   "source": [
    "api_Key = 'nHkOmbo3ziv8ugEwGEk5K1eGv41m8NatuB43abFD'"
   ]
  },
  {
   "cell_type": "code",
   "execution_count": 3,
   "id": "9e4031f2-0005-44a6-9d00-1131e1645b74",
   "metadata": {},
   "outputs": [
    {
     "name": "stdout",
     "output_type": "stream",
     "text": [
      "Requirement already satisfied: requests in /opt/anaconda3/lib/python3.12/site-packages (2.32.3)\n",
      "Requirement already satisfied: charset-normalizer<4,>=2 in /opt/anaconda3/lib/python3.12/site-packages (from requests) (3.3.2)\n",
      "Requirement already satisfied: idna<4,>=2.5 in /opt/anaconda3/lib/python3.12/site-packages (from requests) (3.7)\n",
      "Requirement already satisfied: urllib3<3,>=1.21.1 in /opt/anaconda3/lib/python3.12/site-packages (from requests) (2.2.3)\n",
      "Requirement already satisfied: certifi>=2017.4.17 in /opt/anaconda3/lib/python3.12/site-packages (from requests) (2025.1.31)\n"
     ]
    }
   ],
   "source": [
    "!pip install requests"
   ]
  },
  {
   "cell_type": "code",
   "execution_count": 5,
   "id": "67c8586b-2c5f-46c3-a99e-836e58facf13",
   "metadata": {},
   "outputs": [],
   "source": [
    "import requests\n",
    "from datetime import datetime\n",
    "\n",
    "api_key = \"nHkOmbo3ziv8ugEwGEk5K1eGv41m8NatuB43abFD\"\n",
    "url = f\"https://api.nasa.gov/neo/rest/v1/feed?start_date=2024-01-01&end_date=2024-01-07&api_key={api_key}\"\n",
    "target = 10000\n",
    "asteroids_data = []\n",
    "\n",
    "while len(asteroids_data) < target and url:\n",
    "    response = requests.get(url)\n",
    "    if response.status_code != 200:\n",
    "        print(f\"Error: {response.status_code}, stopping.\")\n",
    "        break\n",
    "    data = response.json()\n",
    "    near_earth_objects = data.get('near_earth_objects', {})\n",
    "\n",
    "    for date, asteroids in near_earth_objects.items():\n",
    "        for asteroid in asteroids:\n",
    "            close_approach_data = asteroid.get('close_approach_data', [])\n",
    "            if not close_approach_data:\n",
    "                continue\n",
    "            close_approach = close_approach_data[0]\n",
    "            try:\n",
    "                asteroids_data.append({\n",
    "                    'id': asteroid.get('id'),\n",
    "                    'neo_reference_id': asteroid.get('neo_reference_id'),\n",
    "                    'name': asteroid.get('name'),\n",
    "                    'absolute_magnitude_h': float(asteroid.get('absolute_magnitude_h', 0.0)),\n",
    "                    'estimated_diameter_min_km': float(asteroid.get('estimated_diameter', {}).get('kilometers', {}).get('estimated_diameter_min', 0.0)),\n",
    "                    'estimated_diameter_max_km': float(asteroid.get('estimated_diameter', {}).get('kilometers', {}).get('estimated_diameter_max', 0.0)),\n",
    "                    'is_potentially_hazardous_asteroid': bool(asteroid.get('is_potentially_hazardous_asteroid', False)),\n",
    "                    'close_approach_date': datetime.strptime(close_approach.get('close_approach_date'), \"%Y-%m-%d\").date() \n",
    "                    if close_approach.get('close_approach_date') else None,\n",
    "                    'relative_velocity_kmph': float(close_approach.get('relative_velocity', {}).get('kilometers_per_hour', 0.0)),\n",
    "                    'miss_distance_km': float(close_approach.get('miss_distance', {}).get('kilometers', 0.0)),\n",
    "                    'astronomical': float(close_approach.get('miss_distance', {}).get('astronomical', 0.0)),\n",
    "                    'miss_distance_lunar': float(close_approach.get('miss_distance', {}).get('lunar', 0.0)),\n",
    "                    'orbiting_body': close_approach.get('orbiting_body', 'N/A')\n",
    "                })\n",
    "            except (ValueError, TypeError):\n",
    "                continue\n",
    "            if len(asteroids_data) >= target:\n",
    "                break\n",
    "        if len(asteroids_data) >= target:\n",
    "            break\n",
    "    url = data.get('links', {}).get('next')"
   ]
  },
  {
   "cell_type": "code",
   "execution_count": 7,
   "id": "28f2366e-3fcd-45fb-9c52-ea09f2ede052",
   "metadata": {},
   "outputs": [
    {
     "data": {
      "text/plain": [
       "10000"
      ]
     },
     "execution_count": 7,
     "metadata": {},
     "output_type": "execute_result"
    }
   ],
   "source": [
    "len(asteroids_data)"
   ]
  },
  {
   "cell_type": "code",
   "execution_count": 9,
   "id": "5c595837-73cb-4491-8bb2-81d17c0fd9d0",
   "metadata": {},
   "outputs": [
    {
     "data": {
      "text/plain": [
       "{'id': '2415949',\n",
       " 'neo_reference_id': '2415949',\n",
       " 'name': '415949 (2001 XY10)',\n",
       " 'absolute_magnitude_h': 19.37,\n",
       " 'estimated_diameter_min_km': 0.3552670883,\n",
       " 'estimated_diameter_max_km': 0.7944013596,\n",
       " 'is_potentially_hazardous_asteroid': False,\n",
       " 'close_approach_date': datetime.date(2024, 1, 2),\n",
       " 'relative_velocity_kmph': 57205.8951204341,\n",
       " 'miss_distance_km': 50452409.349026635,\n",
       " 'astronomical': 0.3372535274,\n",
       " 'miss_distance_lunar': 131.1916221586,\n",
       " 'orbiting_body': 'Earth'}"
      ]
     },
     "execution_count": 9,
     "metadata": {},
     "output_type": "execute_result"
    }
   ],
   "source": [
    "asteroids_data[0]"
   ]
  },
  {
   "cell_type": "code",
   "execution_count": 11,
   "id": "3aafae3b-9880-47a7-aaa6-44fad3c858fc",
   "metadata": {},
   "outputs": [
    {
     "data": {
      "text/plain": [
       "1"
      ]
     },
     "execution_count": 11,
     "metadata": {},
     "output_type": "execute_result"
    }
   ],
   "source": [
    "import pymysql\n",
    "myconnection = pymysql.connect(host='127.0.01', user='root',passwd='Sruthi@666')\n",
    "cur=myconnection.cursor()\n",
    "cur.execute(\"create database Near_Earth_Objects\")"
   ]
  },
  {
   "cell_type": "code",
   "execution_count": 13,
   "id": "d63fd9c8-91b4-454e-a2a8-36e7fb4da449",
   "metadata": {},
   "outputs": [
    {
     "data": {
      "text/plain": [
       "0"
      ]
     },
     "execution_count": 13,
     "metadata": {},
     "output_type": "execute_result"
    }
   ],
   "source": [
    "cur.execute(\"use Near_Earth_Objects\")"
   ]
  },
  {
   "cell_type": "code",
   "execution_count": 15,
   "id": "b4adfd94-2420-4b7a-9261-8c275c0f68bf",
   "metadata": {},
   "outputs": [
    {
     "data": {
      "text/plain": [
       "0"
      ]
     },
     "execution_count": 15,
     "metadata": {},
     "output_type": "execute_result"
    }
   ],
   "source": [
    "cur.execute(\"\"\"\n",
    "CREATE TABLE asteroids (\n",
    "    id int PRIMARY KEY, \n",
    "    name varchar(40), \n",
    "    absolute_magnitude_h float, \n",
    "    estimated_diameter_min_km float, \n",
    "    estimated_diameter_max_km float, \n",
    "    is_potentially_hazardous_asteroid boolean)\n",
    "\"\"\")\n",
    "cur.execute(\"\"\"\n",
    "CREATE TABLE close_approach (\n",
    "    neo_reference_id int, \n",
    "    close_approach_date date, \n",
    "    relative_velocity_kmph float, \n",
    "    astronomical float, \n",
    "    miss_distance_km float, \n",
    "    miss_distance_lunar float, \n",
    "    orbiting_body varchar(20),\n",
    "    FOREIGN KEY (neo_reference_id) REFERENCES asteroids(id))\n",
    "\"\"\")"
   ]
  },
  {
   "cell_type": "code",
   "execution_count": 17,
   "id": "60e50acf-5f78-45d4-9ffb-6cd8b26ed2cf",
   "metadata": {},
   "outputs": [],
   "source": [
    "myconnection.commit()"
   ]
  },
  {
   "cell_type": "code",
   "execution_count": 19,
   "id": "17551749-6af1-40ed-b6b8-33a7f49eb756",
   "metadata": {},
   "outputs": [],
   "source": [
    "for ast in asteroids_data:\n",
    "    cur.execute(\"\"\"\n",
    "    INSERT IGNORE INTO asteroids (\n",
    "        id, name, absolute_magnitude_h, \n",
    "        estimated_diameter_min_km, estimated_diameter_max_km, \n",
    "        is_potentially_hazardous_asteroid) VALUES (%s, %s, %s, %s, %s, %s)\n",
    "\"\"\", (\n",
    "    ast['id'],\n",
    "    ast['name'],\n",
    "    ast['absolute_magnitude_h'],\n",
    "    ast['estimated_diameter_min_km'],\n",
    "    ast['estimated_diameter_max_km'],\n",
    "    ast['is_potentially_hazardous_asteroid']\n",
    "))\n",
    "myconnection.commit()"
   ]
  },
  {
   "cell_type": "code",
   "execution_count": 21,
   "id": "99a4c862-a2a6-47ab-9437-761d4a98dcde",
   "metadata": {},
   "outputs": [],
   "source": [
    "for ast in asteroids_data:\n",
    "    cur.execute(\"SELECT 1 FROM asteroids WHERE id = %s\", (ast['neo_reference_id'],))\n",
    "    if cur.fetchone():  \n",
    "        cur.execute(\"\"\"\n",
    "            INSERT INTO close_approach (\n",
    "                neo_reference_id, close_approach_date, relative_velocity_kmph,\n",
    "                astronomical, miss_distance_km, miss_distance_lunar, orbiting_body\n",
    "            ) VALUES (%s, %s, %s, %s, %s, %s, %s)\n",
    "        \"\"\", (\n",
    "            ast['neo_reference_id'],\n",
    "            ast['close_approach_date'],\n",
    "            ast['relative_velocity_kmph'],\n",
    "            ast['astronomical'],\n",
    "            ast['miss_distance_km'],\n",
    "            ast['miss_distance_lunar'],\n",
    "            ast['orbiting_body']\n",
    "        ))\n",
    "myconnection.commit()"
   ]
  },
  {
   "cell_type": "code",
   "execution_count": null,
   "id": "df2250fe-a26b-4842-ac4f-a8d503320b8f",
   "metadata": {},
   "outputs": [],
   "source": []
  }
 ],
 "metadata": {
  "kernelspec": {
   "display_name": "Python [conda env:base] *",
   "language": "python",
   "name": "conda-base-py"
  },
  "language_info": {
   "codemirror_mode": {
    "name": "ipython",
    "version": 3
   },
   "file_extension": ".py",
   "mimetype": "text/x-python",
   "name": "python",
   "nbconvert_exporter": "python",
   "pygments_lexer": "ipython3",
   "version": "3.12.7"
  }
 },
 "nbformat": 4,
 "nbformat_minor": 5
}
